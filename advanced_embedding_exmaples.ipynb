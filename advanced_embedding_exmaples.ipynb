{
 "cells": [
  {
   "cell_type": "markdown",
   "metadata": {},
   "source": [
    "Search 이외 임베딩 활용 방법을 알려 드립니다\n",
    "- use case\n",
    "    - 사용자 의도 파악\n",
    "    - 자주 묻는 질문 set\n",
    "\n",
    "=> 사용자의 인풋에 따라 다른 function이 실행될 수 있는 trigger<br>\n",
    "\n",
    "---"
   ]
  },
  {
   "cell_type": "code",
   "execution_count": 1,
   "metadata": {},
   "outputs": [],
   "source": [
    "import os\n",
    "import openai\n",
    "from openai import OpenAI\n",
    "from sklearn.cluster import KMeans\n",
    "from utils import cosine_similarity\n",
    "\n",
    "# initialize openai\n",
    "os.environ['OPENAI_API_KEY']= \"your_api_key_here\"\n",
    "openai.api_key = os.environ[\"OPENAI_API_KEY\"]"
   ]
  },
  {
   "cell_type": "markdown",
   "metadata": {},
   "source": [
    "## 1. 사용자 의도 파악\n",
    "- 심리학, 기술혁신, 음악"
   ]
  },
  {
   "cell_type": "code",
   "execution_count": 26,
   "metadata": {},
   "outputs": [],
   "source": [
    "psychology = [\n",
    "    \"인간의 의사 결정 과정에 영향을 미치는 주요 심리적 요인은 무엇인가요?\",\n",
    "    \"색채 심리학이 사람의 감정과 행동에 어떻게 영향을 미치나요?\",\n",
    "    \"스트레스가 인간의 신체와 정신 건강에 미치는 영향은 무엇인가요?\",\n",
    "    \"긍정 심리학은 어떻게 사람들이 더 행복한 삶을 살 수 있도록 돕나요?\",\n",
    "    \"대인 관계에서 비언어적 커뮤니케이션이 갖는 중요성은 무엇인가요?\"\n",
    "]\n",
    "\n",
    "technology_innovation = [\n",
    "    \"블록체인 기술이 금융 산업 외에 어떤 분야에서 혁신을 가져오고 있나요?\",\n",
    "    \"인공 지능의 발전이 미래의 직업 시장에 어떤 영향을 미칠까요?\",\n",
    "    \"사물 인터넷(IoT)이 일상 생활에서 어떻게 활용될 수 있나요?\",\n",
    "    \"가상 현실(VR)과 증강 현실(AR) 기술의 차이점은 무엇이며, 각각 어떻게 사용되나요?\",\n",
    "    \"지속 가능한 기술 혁신을 통해 환경 문제를 해결할 수 있는 방법은 무엇인가요?\"\n",
    "]\n",
    "\n",
    "music = [\n",
    "    \"클래식 음악과 현대 음악 사이의 주요 차이점은 무엇인가요?\",\n",
    "    \"음악이 사람의 감정과 기억에 미치는 영향은 무엇인가요?\",\n",
    "    \"세계 각국의 전통 음악은 그 나라의 문화와 어떻게 연결되어 있나요?\",\n",
    "    \"음악 교육이 아이들의 인지 발달에 어떤 긍정적인 영향을 미치나요?\",\n",
    "    \"음악 스트리밍 서비스가 음악 산업에 가져온 변화는 무엇인가요?\"\n",
    "]\n"
   ]
  },
  {
   "cell_type": "code",
   "execution_count": 27,
   "metadata": {},
   "outputs": [],
   "source": [
    "def create_embeddings(txt_list):\n",
    "    client = OpenAI()\n",
    "\n",
    "    response = client.embeddings.create(\n",
    "    input=txt_list,\n",
    "    model=\"text-embedding-3-small\")\n",
    "    responses = [r.embedding for r in response.data]\n",
    "\n",
    "    return responses"
   ]
  },
  {
   "cell_type": "code",
   "execution_count": 28,
   "metadata": {},
   "outputs": [],
   "source": [
    "embeddings = psychology + technology_innovation + music\n",
    "emb = create_embeddings(embeddings)"
   ]
  },
  {
   "cell_type": "markdown",
   "metadata": {},
   "source": [
    "#### Clustering 활용"
   ]
  },
  {
   "cell_type": "code",
   "execution_count": 29,
   "metadata": {},
   "outputs": [],
   "source": [
    "n_clusters = 3\n",
    "kmeans = KMeans(n_clusters=n_clusters) # Kmeans model\n",
    "clusters = kmeans.fit_predict(emb)"
   ]
  },
  {
   "cell_type": "code",
   "execution_count": 30,
   "metadata": {},
   "outputs": [
    {
     "data": {
      "text/plain": [
       "array([1, 1, 1, 1, 1, 2, 2, 2, 0, 2, 0, 1, 0, 1, 0], dtype=int32)"
      ]
     },
     "execution_count": 30,
     "metadata": {},
     "output_type": "execute_result"
    }
   ],
   "source": [
    "clusters"
   ]
  },
  {
   "cell_type": "markdown",
   "metadata": {},
   "source": [
    "유저가 음악에 관련된"
   ]
  },
  {
   "cell_type": "code",
   "execution_count": 38,
   "metadata": {},
   "outputs": [],
   "source": [
    "input_sentence = \"ai 혁신으로 미래는 어떻게 변할까요?\"\n",
    "sent_emb = create_embeddings([input_sentence])"
   ]
  },
  {
   "cell_type": "code",
   "execution_count": 39,
   "metadata": {},
   "outputs": [
    {
     "data": {
      "text/plain": [
       "array([2], dtype=int32)"
      ]
     },
     "execution_count": 39,
     "metadata": {},
     "output_type": "execute_result"
    }
   ],
   "source": [
    "kmeans.predict(sent_emb)"
   ]
  },
  {
   "cell_type": "markdown",
   "metadata": {},
   "source": [
    "유저가 심리에 관련된 질문을 하였을때"
   ]
  },
  {
   "cell_type": "code",
   "execution_count": 33,
   "metadata": {},
   "outputs": [],
   "source": [
    "input_sentence = \"우을증을 앓고 있는 환자에게 어떤 치료법이 효과적일까요?\"\n",
    "sent_emb = create_embeddings([input_sentence])"
   ]
  },
  {
   "cell_type": "code",
   "execution_count": 35,
   "metadata": {},
   "outputs": [
    {
     "data": {
      "text/plain": [
       "array([1], dtype=int32)"
      ]
     },
     "execution_count": 35,
     "metadata": {},
     "output_type": "execute_result"
    }
   ],
   "source": [
    "kmeans.predict(sent_emb) #[1] -> psychology"
   ]
  },
  {
   "cell_type": "markdown",
   "metadata": {},
   "source": [
    "#### Similarity search를 활용"
   ]
  },
  {
   "cell_type": "code",
   "execution_count": 41,
   "metadata": {},
   "outputs": [],
   "source": [
    "psychology_emb = create_embeddings(psychology)\n",
    "technology_innovation_emb = create_embeddings(technology_innovation)"
   ]
  },
  {
   "cell_type": "code",
   "execution_count": 42,
   "metadata": {},
   "outputs": [],
   "source": [
    "def route_selection(emb_list, query_emb, threshold=0.5):\n",
    "    cos_sim = [cosine_similarity(i, query_emb) for i in emb_list]\n",
    "\n",
    "    threshold_filtered = [i for i in cos_sim if i>threshold]\n",
    "\n",
    "    if len(threshold_filtered)>0:\n",
    "        return True\n",
    "    else:\n",
    "        return False"
   ]
  },
  {
   "cell_type": "code",
   "execution_count": 44,
   "metadata": {},
   "outputs": [
    {
     "name": "stdout",
     "output_type": "stream",
     "text": [
      "False for psychology, False for technology_innovation\n"
     ]
    }
   ],
   "source": [
    "input_sentence = \"나는 감정이 너무 슬픕니다. 어떻게 해야 하나요?\"\n",
    "sent_emb = create_embeddings([input_sentence])\n",
    "\n",
    "print(\"{} for psychology, {} for technology_innovation\".format(route_selection(psychology_emb, sent_emb[0]), route_selection(technology_innovation_emb, sent_emb[0])))"
   ]
  },
  {
   "cell_type": "code",
   "execution_count": 45,
   "metadata": {},
   "outputs": [
    {
     "name": "stdout",
     "output_type": "stream",
     "text": [
      "False for psychology, False for technology_innovation\n"
     ]
    }
   ],
   "source": [
    "input_sentence = \"AI safey에 대한 연구가 중요한 이유는 무엇인가요?\"\n",
    "sent_emb = create_embeddings([input_sentence])\n",
    "\n",
    "print(\"{} for psychology, {} for technology_innovation\".format(route_selection(psychology_emb, sent_emb[0]), route_selection(technology_innovation_emb, sent_emb[0])))"
   ]
  },
  {
   "cell_type": "code",
   "execution_count": null,
   "metadata": {},
   "outputs": [],
   "source": [
    "input_sentence = \"What is the best way to learn machine learning?\"\n",
    "sent_emb = create_embeddings([input_sentence])\n",
    "\n",
    "print(\"{} for politics, {} for machine learning\".format(route_selection(politics_emb, sent_emb[0]), route_selection(ml_emb, sent_emb[0], threshold=0.4)))"
   ]
  },
  {
   "cell_type": "markdown",
   "metadata": {},
   "source": [
    "Embedding을 활용하기 때문에 최소한의 input을 활용하여 clustering이 가능해짐 <br>\n",
    "##### __=> 사용자의 목적을 파악하여, 각 목적에 맞는 function 실행 가능__ (guardrails 또는 semantic router)"
   ]
  },
  {
   "cell_type": "markdown",
   "metadata": {},
   "source": [
    "## 2. 자주 묻는 질문 리스트"
   ]
  },
  {
   "cell_type": "markdown",
   "metadata": {},
   "source": [
    "1. 동일한 방식으로 자주 묻는 질문을 카테고리 별로 저장\n",
    "2. Threshold를 정해서 유사한 질문 search\n",
    "3. 유사한 질문과 연결된 정보 제공"
   ]
  },
  {
   "cell_type": "code",
   "execution_count": null,
   "metadata": {},
   "outputs": [],
   "source": [
    "password_reset = [\"What steps should I take to recover my account without access to my registered email?\",\n",
    "                  \"Is there a way to authenticate my identity for password reset without security questions?\",\n",
    "                  \"How can I reset my password?\"]\n",
    "service_request = [\"Are there any special offers or discounts currently available?\",\n",
    "                   \"How can I compare the different plans to find one that suits my needs?\",\n",
    "                   \"Where can I see user reviews or testimonials about your services?\"]"
   ]
  },
  {
   "cell_type": "markdown",
   "metadata": {},
   "source": [
    "---"
   ]
  },
  {
   "cell_type": "markdown",
   "metadata": {},
   "source": [
    "--END--"
   ]
  }
 ],
 "metadata": {
  "kernelspec": {
   "display_name": "fastcampus",
   "language": "python",
   "name": "python3"
  },
  "language_info": {
   "codemirror_mode": {
    "name": "ipython",
    "version": 3
   },
   "file_extension": ".py",
   "mimetype": "text/x-python",
   "name": "python",
   "nbconvert_exporter": "python",
   "pygments_lexer": "ipython3",
   "version": "3.11.8"
  }
 },
 "nbformat": 4,
 "nbformat_minor": 2
}
